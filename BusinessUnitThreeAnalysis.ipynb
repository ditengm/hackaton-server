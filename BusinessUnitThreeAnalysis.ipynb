{
  "nbformat": 4,
  "nbformat_minor": 0,
  "metadata": {
    "colab": {
      "name": "3BE.ipynb",
      "provenance": [],
      "toc_visible": true
    },
    "kernelspec": {
      "name": "python3",
      "display_name": "Python 3"
    },
    "language_info": {
      "name": "python"
    }
  },
  "cells": [
    {
      "cell_type": "code",
      "execution_count": null,
      "metadata": {
        "id": "wE2BI-n6si5l"
      },
      "outputs": [],
      "source": [
        "import pandas as pd"
      ]
    },
    {
      "cell_type": "code",
      "source": [
        "test = pd.read_csv(\"dataset.csv\")\n",
        "ds_amp = pd.DataFrame(data=test)\n",
        "ds_amp = ds_amp.drop([\"Unnamed: 14\",\"Unnamed: 15\",\"Unnamed: 16\",\"Unnamed: 17\",\"Unnamed: 18\",\"Unnamed: 19\"], axis = 1)\n",
        "ds_amp.rename(columns={'pДата транзакции': 'Дата Транзакции'}, inplace=True)\n",
        "for i in range(106, 237):\n",
        "  ds_amp = ds_amp.drop(labels = i,axis = 0)\n",
        "ds_amp.info()"
      ],
      "metadata": {
        "colab": {
          "base_uri": "https://localhost:8080/"
        },
        "id": "zHv7egeptCcX",
        "outputId": "f4253604-0b8a-49d9-bbeb-e994b2bc773b"
      },
      "execution_count": 226,
      "outputs": [
        {
          "output_type": "stream",
          "name": "stdout",
          "text": [
            "<class 'pandas.core.frame.DataFrame'>\n",
            "Int64Index: 106 entries, 0 to 105\n",
            "Data columns (total 14 columns):\n",
            " #   Column                         Non-Null Count  Dtype  \n",
            "---  ------                         --------------  -----  \n",
            " 0   Дата Транзакции                106 non-null    object \n",
            " 1   Сумма транзакции в RUB         106 non-null    float64\n",
            " 2   МОЩНОСТЬ                       106 non-null    object \n",
            " 3   Рынок на сутки вперед (РСВ)    106 non-null    float64\n",
            " 4   Электроэнергия по РД           106 non-null    object \n",
            " 5   Балансирующий рынок (покупка)  106 non-null    float64\n",
            " 6   УСЛУГИ АТС                     106 non-null    object \n",
            " 7    ЦФР и СО                      106 non-null    float64\n",
            " 8   Балансирующий рынок (продажа)  106 non-null    object \n",
            " 9   РСВ (продажа)                  106 non-null    float64\n",
            " 10  Объем потребления              106 non-null    object \n",
            " 11   кВтч                          106 non-null    float64\n",
            " 12  Год                            106 non-null    object \n",
            " 13  Месяц                          106 non-null    float64\n",
            "dtypes: float64(7), object(7)\n",
            "memory usage: 12.4+ KB\n"
          ]
        }
      ]
    },
    {
      "cell_type": "code",
      "source": [
        "ds_amp.head()"
      ],
      "metadata": {
        "colab": {
          "base_uri": "https://localhost:8080/",
          "height": 354
        },
        "id": "CmERgT85Fo8h",
        "outputId": "f8ca9c5f-0125-43d1-e32c-8e66f03dc1a0"
      },
      "execution_count": 227,
      "outputs": [
        {
          "output_type": "execute_result",
          "data": {
            "text/html": [
              "\n",
              "  <div id=\"df-3a81a568-f3c3-4635-a667-4befb2698245\">\n",
              "    <div class=\"colab-df-container\">\n",
              "      <div>\n",
              "<style scoped>\n",
              "    .dataframe tbody tr th:only-of-type {\n",
              "        vertical-align: middle;\n",
              "    }\n",
              "\n",
              "    .dataframe tbody tr th {\n",
              "        vertical-align: top;\n",
              "    }\n",
              "\n",
              "    .dataframe thead th {\n",
              "        text-align: right;\n",
              "    }\n",
              "</style>\n",
              "<table border=\"1\" class=\"dataframe\">\n",
              "  <thead>\n",
              "    <tr style=\"text-align: right;\">\n",
              "      <th></th>\n",
              "      <th>Дата Транзакции</th>\n",
              "      <th>Сумма транзакции в RUB</th>\n",
              "      <th>МОЩНОСТЬ</th>\n",
              "      <th>Рынок на сутки вперед (РСВ)</th>\n",
              "      <th>Электроэнергия по РД</th>\n",
              "      <th>Балансирующий рынок (покупка)</th>\n",
              "      <th>УСЛУГИ АТС</th>\n",
              "      <th>ЦФР и СО</th>\n",
              "      <th>Балансирующий рынок (продажа)</th>\n",
              "      <th>РСВ (продажа)</th>\n",
              "      <th>Объем потребления</th>\n",
              "      <th>кВтч</th>\n",
              "      <th>Год</th>\n",
              "      <th>Месяц</th>\n",
              "    </tr>\n",
              "  </thead>\n",
              "  <tbody>\n",
              "    <tr>\n",
              "      <th>0</th>\n",
              "      <td>11.01.2019</td>\n",
              "      <td>-2.012275e+07</td>\n",
              "      <td>27 856 722</td>\n",
              "      <td>58.0</td>\n",
              "      <td>1 172 518</td>\n",
              "      <td>28.0</td>\n",
              "      <td>8 229 338</td>\n",
              "      <td>75.0</td>\n",
              "      <td>1 909 600</td>\n",
              "      <td>13.0</td>\n",
              "      <td>314 082</td>\n",
              "      <td>63.0</td>\n",
              "      <td>-659 523</td>\n",
              "      <td>88.0</td>\n",
              "    </tr>\n",
              "    <tr>\n",
              "      <th>1</th>\n",
              "      <td>18.01.2019</td>\n",
              "      <td>-1.782605e+07</td>\n",
              "      <td>27 856 722</td>\n",
              "      <td>58.0</td>\n",
              "      <td>1 172 518</td>\n",
              "      <td>28.0</td>\n",
              "      <td>8 229 338</td>\n",
              "      <td>75.0</td>\n",
              "      <td>1 909 600</td>\n",
              "      <td>13.0</td>\n",
              "      <td>314 082</td>\n",
              "      <td>63.0</td>\n",
              "      <td>-659 523</td>\n",
              "      <td>88.0</td>\n",
              "    </tr>\n",
              "    <tr>\n",
              "      <th>2</th>\n",
              "      <td>21.01.2019</td>\n",
              "      <td>-8.708560e+07</td>\n",
              "      <td>27 856 722</td>\n",
              "      <td>58.0</td>\n",
              "      <td>1 172 518</td>\n",
              "      <td>28.0</td>\n",
              "      <td>8 229 338</td>\n",
              "      <td>75.0</td>\n",
              "      <td>1 909 600</td>\n",
              "      <td>13.0</td>\n",
              "      <td>314 082</td>\n",
              "      <td>63.0</td>\n",
              "      <td>-659 523</td>\n",
              "      <td>88.0</td>\n",
              "    </tr>\n",
              "    <tr>\n",
              "      <th>3</th>\n",
              "      <td>25.01.2019</td>\n",
              "      <td>-1.917723e+04</td>\n",
              "      <td>27 856 722</td>\n",
              "      <td>58.0</td>\n",
              "      <td>1 172 518</td>\n",
              "      <td>28.0</td>\n",
              "      <td>8 229 338</td>\n",
              "      <td>75.0</td>\n",
              "      <td>1 909 600</td>\n",
              "      <td>13.0</td>\n",
              "      <td>314 082</td>\n",
              "      <td>63.0</td>\n",
              "      <td>-659 523</td>\n",
              "      <td>88.0</td>\n",
              "    </tr>\n",
              "    <tr>\n",
              "      <th>4</th>\n",
              "      <td>14.02.2019</td>\n",
              "      <td>-1.452109e+05</td>\n",
              "      <td>29 457 544</td>\n",
              "      <td>9.0</td>\n",
              "      <td>1 911 608</td>\n",
              "      <td>62.0</td>\n",
              "      <td>52 686 114</td>\n",
              "      <td>39.0</td>\n",
              "      <td>556 880</td>\n",
              "      <td>95.0</td>\n",
              "      <td>291 290</td>\n",
              "      <td>45.0</td>\n",
              "      <td>-1 161 772</td>\n",
              "      <td>16.0</td>\n",
              "    </tr>\n",
              "  </tbody>\n",
              "</table>\n",
              "</div>\n",
              "      <button class=\"colab-df-convert\" onclick=\"convertToInteractive('df-3a81a568-f3c3-4635-a667-4befb2698245')\"\n",
              "              title=\"Convert this dataframe to an interactive table.\"\n",
              "              style=\"display:none;\">\n",
              "        \n",
              "  <svg xmlns=\"http://www.w3.org/2000/svg\" height=\"24px\"viewBox=\"0 0 24 24\"\n",
              "       width=\"24px\">\n",
              "    <path d=\"M0 0h24v24H0V0z\" fill=\"none\"/>\n",
              "    <path d=\"M18.56 5.44l.94 2.06.94-2.06 2.06-.94-2.06-.94-.94-2.06-.94 2.06-2.06.94zm-11 1L8.5 8.5l.94-2.06 2.06-.94-2.06-.94L8.5 2.5l-.94 2.06-2.06.94zm10 10l.94 2.06.94-2.06 2.06-.94-2.06-.94-.94-2.06-.94 2.06-2.06.94z\"/><path d=\"M17.41 7.96l-1.37-1.37c-.4-.4-.92-.59-1.43-.59-.52 0-1.04.2-1.43.59L10.3 9.45l-7.72 7.72c-.78.78-.78 2.05 0 2.83L4 21.41c.39.39.9.59 1.41.59.51 0 1.02-.2 1.41-.59l7.78-7.78 2.81-2.81c.8-.78.8-2.07 0-2.86zM5.41 20L4 18.59l7.72-7.72 1.47 1.35L5.41 20z\"/>\n",
              "  </svg>\n",
              "      </button>\n",
              "      \n",
              "  <style>\n",
              "    .colab-df-container {\n",
              "      display:flex;\n",
              "      flex-wrap:wrap;\n",
              "      gap: 12px;\n",
              "    }\n",
              "\n",
              "    .colab-df-convert {\n",
              "      background-color: #E8F0FE;\n",
              "      border: none;\n",
              "      border-radius: 50%;\n",
              "      cursor: pointer;\n",
              "      display: none;\n",
              "      fill: #1967D2;\n",
              "      height: 32px;\n",
              "      padding: 0 0 0 0;\n",
              "      width: 32px;\n",
              "    }\n",
              "\n",
              "    .colab-df-convert:hover {\n",
              "      background-color: #E2EBFA;\n",
              "      box-shadow: 0px 1px 2px rgba(60, 64, 67, 0.3), 0px 1px 3px 1px rgba(60, 64, 67, 0.15);\n",
              "      fill: #174EA6;\n",
              "    }\n",
              "\n",
              "    [theme=dark] .colab-df-convert {\n",
              "      background-color: #3B4455;\n",
              "      fill: #D2E3FC;\n",
              "    }\n",
              "\n",
              "    [theme=dark] .colab-df-convert:hover {\n",
              "      background-color: #434B5C;\n",
              "      box-shadow: 0px 1px 3px 1px rgba(0, 0, 0, 0.15);\n",
              "      filter: drop-shadow(0px 1px 2px rgba(0, 0, 0, 0.3));\n",
              "      fill: #FFFFFF;\n",
              "    }\n",
              "  </style>\n",
              "\n",
              "      <script>\n",
              "        const buttonEl =\n",
              "          document.querySelector('#df-3a81a568-f3c3-4635-a667-4befb2698245 button.colab-df-convert');\n",
              "        buttonEl.style.display =\n",
              "          google.colab.kernel.accessAllowed ? 'block' : 'none';\n",
              "\n",
              "        async function convertToInteractive(key) {\n",
              "          const element = document.querySelector('#df-3a81a568-f3c3-4635-a667-4befb2698245');\n",
              "          const dataTable =\n",
              "            await google.colab.kernel.invokeFunction('convertToInteractive',\n",
              "                                                     [key], {});\n",
              "          if (!dataTable) return;\n",
              "\n",
              "          const docLinkHtml = 'Like what you see? Visit the ' +\n",
              "            '<a target=\"_blank\" href=https://colab.research.google.com/notebooks/data_table.ipynb>data table notebook</a>'\n",
              "            + ' to learn more about interactive tables.';\n",
              "          element.innerHTML = '';\n",
              "          dataTable['output_type'] = 'display_data';\n",
              "          await google.colab.output.renderOutput(dataTable, element);\n",
              "          const docLink = document.createElement('div');\n",
              "          docLink.innerHTML = docLinkHtml;\n",
              "          element.appendChild(docLink);\n",
              "        }\n",
              "      </script>\n",
              "    </div>\n",
              "  </div>\n",
              "  "
            ],
            "text/plain": [
              "  Дата Транзакции  Сумма транзакции в RUB    МОЩНОСТЬ  \\\n",
              "0      11.01.2019           -2.012275e+07  27 856 722   \n",
              "1      18.01.2019           -1.782605e+07  27 856 722   \n",
              "2      21.01.2019           -8.708560e+07  27 856 722   \n",
              "3      25.01.2019           -1.917723e+04  27 856 722   \n",
              "4      14.02.2019           -1.452109e+05  29 457 544   \n",
              "\n",
              "   Рынок на сутки вперед (РСВ) Электроэнергия по РД  \\\n",
              "0                         58.0            1 172 518   \n",
              "1                         58.0            1 172 518   \n",
              "2                         58.0            1 172 518   \n",
              "3                         58.0            1 172 518   \n",
              "4                          9.0            1 911 608   \n",
              "\n",
              "   Балансирующий рынок (покупка)  УСЛУГИ АТС   ЦФР и СО  \\\n",
              "0                           28.0   8 229 338       75.0   \n",
              "1                           28.0   8 229 338       75.0   \n",
              "2                           28.0   8 229 338       75.0   \n",
              "3                           28.0   8 229 338       75.0   \n",
              "4                           62.0  52 686 114       39.0   \n",
              "\n",
              "  Балансирующий рынок (продажа)  РСВ (продажа) Объем потребления   кВтч  \\\n",
              "0                     1 909 600           13.0           314 082   63.0   \n",
              "1                     1 909 600           13.0           314 082   63.0   \n",
              "2                     1 909 600           13.0           314 082   63.0   \n",
              "3                     1 909 600           13.0           314 082   63.0   \n",
              "4                       556 880           95.0           291 290   45.0   \n",
              "\n",
              "          Год  Месяц  \n",
              "0    -659 523   88.0  \n",
              "1    -659 523   88.0  \n",
              "2    -659 523   88.0  \n",
              "3    -659 523   88.0  \n",
              "4  -1 161 772   16.0  "
            ]
          },
          "metadata": {},
          "execution_count": 227
        }
      ]
    },
    {
      "cell_type": "code",
      "source": [
        "for i in range(106):\n",
        "  data = ds_amp['Дата Транзакции'][i].split('.')\n",
        "  ds_amp['Дата Транзакции'][i] = int(data[0])  + (int(data[1])) * 30 + (int(data[2]) - 2017) * 365\n",
        "ds_amp['Дата Транзакции'] = pd.to_numeric(ds_amp['Дата Транзакции'])"
      ],
      "metadata": {
        "colab": {
          "base_uri": "https://localhost:8080/"
        },
        "id": "5Dqy5dSW9TGC",
        "outputId": "de923f24-18e1-4c93-ac7d-7e3e04af5bc5"
      },
      "execution_count": 216,
      "outputs": [
        {
          "output_type": "stream",
          "name": "stderr",
          "text": [
            "/usr/local/lib/python3.7/dist-packages/ipykernel_launcher.py:3: SettingWithCopyWarning: \n",
            "A value is trying to be set on a copy of a slice from a DataFrame\n",
            "\n",
            "See the caveats in the documentation: https://pandas.pydata.org/pandas-docs/stable/user_guide/indexing.html#returning-a-view-versus-a-copy\n",
            "  This is separate from the ipykernel package so we can avoid doing imports until\n"
          ]
        }
      ]
    },
    {
      "cell_type": "code",
      "source": [
        "for i in range(106):\n",
        "  data = ds_amp['МОЩНОСТЬ'][i].split(' ')\n",
        "  num = ''\n",
        "  for h in range(len(data)):\n",
        "    num += data[h]\n",
        "  ds_amp['МОЩНОСТЬ'][i] = int(num)\n",
        "ds_amp['МОЩНОСТЬ'] = pd.to_numeric(ds_amp['МОЩНОСТЬ'])"
      ],
      "metadata": {
        "colab": {
          "base_uri": "https://localhost:8080/"
        },
        "id": "QvXB5DPLGRn3",
        "outputId": "3d8bf044-5512-4af5-c947-9a1bb87de788"
      },
      "execution_count": 228,
      "outputs": [
        {
          "output_type": "stream",
          "name": "stderr",
          "text": [
            "/usr/local/lib/python3.7/dist-packages/ipykernel_launcher.py:6: SettingWithCopyWarning: \n",
            "A value is trying to be set on a copy of a slice from a DataFrame\n",
            "\n",
            "See the caveats in the documentation: https://pandas.pydata.org/pandas-docs/stable/user_guide/indexing.html#returning-a-view-versus-a-copy\n",
            "  \n"
          ]
        }
      ]
    },
    {
      "cell_type": "code",
      "source": [
        "for i in range(106):\n",
        "  data = ds_amp['Электроэнергия по РД'][i].split(' ')\n",
        "  num = ''\n",
        "  for h in range(len(data)):\n",
        "    num += data[h]\n",
        "  ds_amp['Электроэнергия по РД'][i] = int(num)\n",
        "ds_amp['Электроэнергия по РД'] = pd.to_numeric(ds_amp['Электроэнергия по РД'])"
      ],
      "metadata": {
        "colab": {
          "base_uri": "https://localhost:8080/"
        },
        "id": "etfecVfuHoSF",
        "outputId": "68198900-4880-4d47-fc64-00a7d61e3692"
      },
      "execution_count": 231,
      "outputs": [
        {
          "output_type": "stream",
          "name": "stderr",
          "text": [
            "/usr/local/lib/python3.7/dist-packages/ipykernel_launcher.py:6: SettingWithCopyWarning: \n",
            "A value is trying to be set on a copy of a slice from a DataFrame\n",
            "\n",
            "See the caveats in the documentation: https://pandas.pydata.org/pandas-docs/stable/user_guide/indexing.html#returning-a-view-versus-a-copy\n",
            "  \n"
          ]
        }
      ]
    },
    {
      "cell_type": "code",
      "source": [
        "for i in range(106):\n",
        "  data = ds_amp['УСЛУГИ АТС'][i].split(' ')\n",
        "  num = ''\n",
        "  for h in range(len(data)):\n",
        "    num += data[h]\n",
        "  ds_amp['УСЛУГИ АТС'][i] = int(num)\n",
        "ds_amp['УСЛУГИ АТС'] = pd.to_numeric(ds_amp['УСЛУГИ АТС'])"
      ],
      "metadata": {
        "colab": {
          "base_uri": "https://localhost:8080/"
        },
        "id": "VPjFi995H2Kj",
        "outputId": "bb67160f-b815-4b0b-8796-c3c939686d27"
      },
      "execution_count": 234,
      "outputs": [
        {
          "output_type": "stream",
          "name": "stderr",
          "text": [
            "/usr/local/lib/python3.7/dist-packages/ipykernel_launcher.py:6: SettingWithCopyWarning: \n",
            "A value is trying to be set on a copy of a slice from a DataFrame\n",
            "\n",
            "See the caveats in the documentation: https://pandas.pydata.org/pandas-docs/stable/user_guide/indexing.html#returning-a-view-versus-a-copy\n",
            "  \n"
          ]
        }
      ]
    },
    {
      "cell_type": "code",
      "source": [
        "for i in range(106):\n",
        "  data = ds_amp['Балансирующий рынок (продажа)'][i].split(' ')\n",
        "  num = ''\n",
        "  for h in range(len(data)):\n",
        "    num += data[h]\n",
        "  ds_amp['Балансирующий рынок (продажа)'][i] = int(num)\n",
        "ds_amp['Балансирующий рынок (продажа)'] = pd.to_numeric(ds_amp['Балансирующий рынок (продажа)'])"
      ],
      "metadata": {
        "colab": {
          "base_uri": "https://localhost:8080/"
        },
        "id": "VKFrB-YEH_ou",
        "outputId": "7ba0a569-ecc3-4811-dd7e-f7f97b57261e"
      },
      "execution_count": 235,
      "outputs": [
        {
          "output_type": "stream",
          "name": "stderr",
          "text": [
            "/usr/local/lib/python3.7/dist-packages/ipykernel_launcher.py:6: SettingWithCopyWarning: \n",
            "A value is trying to be set on a copy of a slice from a DataFrame\n",
            "\n",
            "See the caveats in the documentation: https://pandas.pydata.org/pandas-docs/stable/user_guide/indexing.html#returning-a-view-versus-a-copy\n",
            "  \n"
          ]
        }
      ]
    },
    {
      "cell_type": "code",
      "source": [
        "for i in range(106):\n",
        "  data = ds_amp['Объем потребления'][i].split(' ')\n",
        "  num = ''\n",
        "  for h in range(len(data)):\n",
        "    num += data[h]\n",
        "  ds_amp['Объем потребления'][i] = int(num)\n",
        "ds_amp['Объем потребления'] = pd.to_numeric(ds_amp['Объем потребления'])"
      ],
      "metadata": {
        "colab": {
          "base_uri": "https://localhost:8080/"
        },
        "id": "2YhlpnPwIpdw",
        "outputId": "2a70cac6-0975-4d83-badd-d981ce086db5"
      },
      "execution_count": 237,
      "outputs": [
        {
          "output_type": "stream",
          "name": "stderr",
          "text": [
            "/usr/local/lib/python3.7/dist-packages/ipykernel_launcher.py:6: SettingWithCopyWarning: \n",
            "A value is trying to be set on a copy of a slice from a DataFrame\n",
            "\n",
            "See the caveats in the documentation: https://pandas.pydata.org/pandas-docs/stable/user_guide/indexing.html#returning-a-view-versus-a-copy\n",
            "  \n"
          ]
        }
      ]
    },
    {
      "cell_type": "markdown",
      "source": [
        "Если это это кто-то читает, то я понимаю, что можно было сделать просто в два цикла перебирая стобцы. Но думать я начал слишком поздно"
      ],
      "metadata": {
        "id": "5VJdiX6QIQN4"
      }
    },
    {
      "cell_type": "code",
      "source": [
        "ds_amp.head()"
      ],
      "metadata": {
        "colab": {
          "base_uri": "https://localhost:8080/",
          "height": 354
        },
        "id": "EBqxtdqK7rEU",
        "outputId": "8951a649-ae48-4c85-8b03-8c9ece41f889"
      },
      "execution_count": 238,
      "outputs": [
        {
          "output_type": "execute_result",
          "data": {
            "text/html": [
              "\n",
              "  <div id=\"df-041de03f-76be-4355-a0f3-2dfff317ab76\">\n",
              "    <div class=\"colab-df-container\">\n",
              "      <div>\n",
              "<style scoped>\n",
              "    .dataframe tbody tr th:only-of-type {\n",
              "        vertical-align: middle;\n",
              "    }\n",
              "\n",
              "    .dataframe tbody tr th {\n",
              "        vertical-align: top;\n",
              "    }\n",
              "\n",
              "    .dataframe thead th {\n",
              "        text-align: right;\n",
              "    }\n",
              "</style>\n",
              "<table border=\"1\" class=\"dataframe\">\n",
              "  <thead>\n",
              "    <tr style=\"text-align: right;\">\n",
              "      <th></th>\n",
              "      <th>Дата Транзакции</th>\n",
              "      <th>Сумма транзакции в RUB</th>\n",
              "      <th>МОЩНОСТЬ</th>\n",
              "      <th>Рынок на сутки вперед (РСВ)</th>\n",
              "      <th>Электроэнергия по РД</th>\n",
              "      <th>Балансирующий рынок (покупка)</th>\n",
              "      <th>УСЛУГИ АТС</th>\n",
              "      <th>ЦФР и СО</th>\n",
              "      <th>Балансирующий рынок (продажа)</th>\n",
              "      <th>РСВ (продажа)</th>\n",
              "      <th>Объем потребления</th>\n",
              "      <th>кВтч</th>\n",
              "      <th>Год</th>\n",
              "      <th>Месяц</th>\n",
              "    </tr>\n",
              "  </thead>\n",
              "  <tbody>\n",
              "    <tr>\n",
              "      <th>0</th>\n",
              "      <td>11.01.2019</td>\n",
              "      <td>-2.012275e+07</td>\n",
              "      <td>27856722</td>\n",
              "      <td>58.0</td>\n",
              "      <td>1172518</td>\n",
              "      <td>28.0</td>\n",
              "      <td>8229338</td>\n",
              "      <td>75.0</td>\n",
              "      <td>1909600</td>\n",
              "      <td>13.0</td>\n",
              "      <td>314082</td>\n",
              "      <td>63.0</td>\n",
              "      <td>-659 523</td>\n",
              "      <td>88.0</td>\n",
              "    </tr>\n",
              "    <tr>\n",
              "      <th>1</th>\n",
              "      <td>18.01.2019</td>\n",
              "      <td>-1.782605e+07</td>\n",
              "      <td>27856722</td>\n",
              "      <td>58.0</td>\n",
              "      <td>1172518</td>\n",
              "      <td>28.0</td>\n",
              "      <td>8229338</td>\n",
              "      <td>75.0</td>\n",
              "      <td>1909600</td>\n",
              "      <td>13.0</td>\n",
              "      <td>314082</td>\n",
              "      <td>63.0</td>\n",
              "      <td>-659 523</td>\n",
              "      <td>88.0</td>\n",
              "    </tr>\n",
              "    <tr>\n",
              "      <th>2</th>\n",
              "      <td>21.01.2019</td>\n",
              "      <td>-8.708560e+07</td>\n",
              "      <td>27856722</td>\n",
              "      <td>58.0</td>\n",
              "      <td>1172518</td>\n",
              "      <td>28.0</td>\n",
              "      <td>8229338</td>\n",
              "      <td>75.0</td>\n",
              "      <td>1909600</td>\n",
              "      <td>13.0</td>\n",
              "      <td>314082</td>\n",
              "      <td>63.0</td>\n",
              "      <td>-659 523</td>\n",
              "      <td>88.0</td>\n",
              "    </tr>\n",
              "    <tr>\n",
              "      <th>3</th>\n",
              "      <td>25.01.2019</td>\n",
              "      <td>-1.917723e+04</td>\n",
              "      <td>27856722</td>\n",
              "      <td>58.0</td>\n",
              "      <td>1172518</td>\n",
              "      <td>28.0</td>\n",
              "      <td>8229338</td>\n",
              "      <td>75.0</td>\n",
              "      <td>1909600</td>\n",
              "      <td>13.0</td>\n",
              "      <td>314082</td>\n",
              "      <td>63.0</td>\n",
              "      <td>-659 523</td>\n",
              "      <td>88.0</td>\n",
              "    </tr>\n",
              "    <tr>\n",
              "      <th>4</th>\n",
              "      <td>14.02.2019</td>\n",
              "      <td>-1.452109e+05</td>\n",
              "      <td>29457544</td>\n",
              "      <td>9.0</td>\n",
              "      <td>1911608</td>\n",
              "      <td>62.0</td>\n",
              "      <td>52686114</td>\n",
              "      <td>39.0</td>\n",
              "      <td>556880</td>\n",
              "      <td>95.0</td>\n",
              "      <td>291290</td>\n",
              "      <td>45.0</td>\n",
              "      <td>-1 161 772</td>\n",
              "      <td>16.0</td>\n",
              "    </tr>\n",
              "  </tbody>\n",
              "</table>\n",
              "</div>\n",
              "      <button class=\"colab-df-convert\" onclick=\"convertToInteractive('df-041de03f-76be-4355-a0f3-2dfff317ab76')\"\n",
              "              title=\"Convert this dataframe to an interactive table.\"\n",
              "              style=\"display:none;\">\n",
              "        \n",
              "  <svg xmlns=\"http://www.w3.org/2000/svg\" height=\"24px\"viewBox=\"0 0 24 24\"\n",
              "       width=\"24px\">\n",
              "    <path d=\"M0 0h24v24H0V0z\" fill=\"none\"/>\n",
              "    <path d=\"M18.56 5.44l.94 2.06.94-2.06 2.06-.94-2.06-.94-.94-2.06-.94 2.06-2.06.94zm-11 1L8.5 8.5l.94-2.06 2.06-.94-2.06-.94L8.5 2.5l-.94 2.06-2.06.94zm10 10l.94 2.06.94-2.06 2.06-.94-2.06-.94-.94-2.06-.94 2.06-2.06.94z\"/><path d=\"M17.41 7.96l-1.37-1.37c-.4-.4-.92-.59-1.43-.59-.52 0-1.04.2-1.43.59L10.3 9.45l-7.72 7.72c-.78.78-.78 2.05 0 2.83L4 21.41c.39.39.9.59 1.41.59.51 0 1.02-.2 1.41-.59l7.78-7.78 2.81-2.81c.8-.78.8-2.07 0-2.86zM5.41 20L4 18.59l7.72-7.72 1.47 1.35L5.41 20z\"/>\n",
              "  </svg>\n",
              "      </button>\n",
              "      \n",
              "  <style>\n",
              "    .colab-df-container {\n",
              "      display:flex;\n",
              "      flex-wrap:wrap;\n",
              "      gap: 12px;\n",
              "    }\n",
              "\n",
              "    .colab-df-convert {\n",
              "      background-color: #E8F0FE;\n",
              "      border: none;\n",
              "      border-radius: 50%;\n",
              "      cursor: pointer;\n",
              "      display: none;\n",
              "      fill: #1967D2;\n",
              "      height: 32px;\n",
              "      padding: 0 0 0 0;\n",
              "      width: 32px;\n",
              "    }\n",
              "\n",
              "    .colab-df-convert:hover {\n",
              "      background-color: #E2EBFA;\n",
              "      box-shadow: 0px 1px 2px rgba(60, 64, 67, 0.3), 0px 1px 3px 1px rgba(60, 64, 67, 0.15);\n",
              "      fill: #174EA6;\n",
              "    }\n",
              "\n",
              "    [theme=dark] .colab-df-convert {\n",
              "      background-color: #3B4455;\n",
              "      fill: #D2E3FC;\n",
              "    }\n",
              "\n",
              "    [theme=dark] .colab-df-convert:hover {\n",
              "      background-color: #434B5C;\n",
              "      box-shadow: 0px 1px 3px 1px rgba(0, 0, 0, 0.15);\n",
              "      filter: drop-shadow(0px 1px 2px rgba(0, 0, 0, 0.3));\n",
              "      fill: #FFFFFF;\n",
              "    }\n",
              "  </style>\n",
              "\n",
              "      <script>\n",
              "        const buttonEl =\n",
              "          document.querySelector('#df-041de03f-76be-4355-a0f3-2dfff317ab76 button.colab-df-convert');\n",
              "        buttonEl.style.display =\n",
              "          google.colab.kernel.accessAllowed ? 'block' : 'none';\n",
              "\n",
              "        async function convertToInteractive(key) {\n",
              "          const element = document.querySelector('#df-041de03f-76be-4355-a0f3-2dfff317ab76');\n",
              "          const dataTable =\n",
              "            await google.colab.kernel.invokeFunction('convertToInteractive',\n",
              "                                                     [key], {});\n",
              "          if (!dataTable) return;\n",
              "\n",
              "          const docLinkHtml = 'Like what you see? Visit the ' +\n",
              "            '<a target=\"_blank\" href=https://colab.research.google.com/notebooks/data_table.ipynb>data table notebook</a>'\n",
              "            + ' to learn more about interactive tables.';\n",
              "          element.innerHTML = '';\n",
              "          dataTable['output_type'] = 'display_data';\n",
              "          await google.colab.output.renderOutput(dataTable, element);\n",
              "          const docLink = document.createElement('div');\n",
              "          docLink.innerHTML = docLinkHtml;\n",
              "          element.appendChild(docLink);\n",
              "        }\n",
              "      </script>\n",
              "    </div>\n",
              "  </div>\n",
              "  "
            ],
            "text/plain": [
              "  Дата Транзакции  Сумма транзакции в RUB  МОЩНОСТЬ  \\\n",
              "0      11.01.2019           -2.012275e+07  27856722   \n",
              "1      18.01.2019           -1.782605e+07  27856722   \n",
              "2      21.01.2019           -8.708560e+07  27856722   \n",
              "3      25.01.2019           -1.917723e+04  27856722   \n",
              "4      14.02.2019           -1.452109e+05  29457544   \n",
              "\n",
              "   Рынок на сутки вперед (РСВ)  Электроэнергия по РД  \\\n",
              "0                         58.0               1172518   \n",
              "1                         58.0               1172518   \n",
              "2                         58.0               1172518   \n",
              "3                         58.0               1172518   \n",
              "4                          9.0               1911608   \n",
              "\n",
              "   Балансирующий рынок (покупка)  УСЛУГИ АТС   ЦФР и СО  \\\n",
              "0                           28.0     8229338       75.0   \n",
              "1                           28.0     8229338       75.0   \n",
              "2                           28.0     8229338       75.0   \n",
              "3                           28.0     8229338       75.0   \n",
              "4                           62.0    52686114       39.0   \n",
              "\n",
              "   Балансирующий рынок (продажа)  РСВ (продажа)  Объем потребления   кВтч  \\\n",
              "0                        1909600           13.0             314082   63.0   \n",
              "1                        1909600           13.0             314082   63.0   \n",
              "2                        1909600           13.0             314082   63.0   \n",
              "3                        1909600           13.0             314082   63.0   \n",
              "4                         556880           95.0             291290   45.0   \n",
              "\n",
              "          Год  Месяц  \n",
              "0    -659 523   88.0  \n",
              "1    -659 523   88.0  \n",
              "2    -659 523   88.0  \n",
              "3    -659 523   88.0  \n",
              "4  -1 161 772   16.0  "
            ]
          },
          "metadata": {},
          "execution_count": 238
        }
      ]
    },
    {
      "cell_type": "code",
      "source": [
        "ds_amp = ds_amp.drop(['Месяц','Год'], axis = 1)"
      ],
      "metadata": {
        "id": "DiZxnsdyA1B1"
      },
      "execution_count": 239,
      "outputs": []
    },
    {
      "cell_type": "code",
      "source": [
        "ds_amp.info()"
      ],
      "metadata": {
        "colab": {
          "base_uri": "https://localhost:8080/"
        },
        "id": "nVpQ9FaV3z5g",
        "outputId": "1a7ddf88-c0e9-4391-eba5-0708febdaaaa"
      },
      "execution_count": 240,
      "outputs": [
        {
          "output_type": "stream",
          "name": "stdout",
          "text": [
            "<class 'pandas.core.frame.DataFrame'>\n",
            "Int64Index: 106 entries, 0 to 105\n",
            "Data columns (total 12 columns):\n",
            " #   Column                         Non-Null Count  Dtype  \n",
            "---  ------                         --------------  -----  \n",
            " 0   Дата Транзакции                106 non-null    object \n",
            " 1   Сумма транзакции в RUB         106 non-null    float64\n",
            " 2   МОЩНОСТЬ                       106 non-null    int64  \n",
            " 3   Рынок на сутки вперед (РСВ)    106 non-null    float64\n",
            " 4   Электроэнергия по РД           106 non-null    int64  \n",
            " 5   Балансирующий рынок (покупка)  106 non-null    float64\n",
            " 6   УСЛУГИ АТС                     106 non-null    int64  \n",
            " 7    ЦФР и СО                      106 non-null    float64\n",
            " 8   Балансирующий рынок (продажа)  106 non-null    int64  \n",
            " 9   РСВ (продажа)                  106 non-null    float64\n",
            " 10  Объем потребления              106 non-null    int64  \n",
            " 11   кВтч                          106 non-null    float64\n",
            "dtypes: float64(6), int64(5), object(1)\n",
            "memory usage: 14.8+ KB\n"
          ]
        }
      ]
    },
    {
      "cell_type": "code",
      "source": [
        "import seaborn as sns\n",
        "import numpy as np\n",
        "import pandas as pd\n",
        "import matplotlib.pyplot as plt"
      ],
      "metadata": {
        "id": "6CnuMDBJCX8w"
      },
      "execution_count": 241,
      "outputs": []
    },
    {
      "cell_type": "code",
      "source": [
        "df_new = ds_amp.copy()"
      ],
      "metadata": {
        "id": "ow0Jrg1oC9go"
      },
      "execution_count": 242,
      "outputs": []
    },
    {
      "cell_type": "code",
      "source": [
        "sns.heatmap(df_new.corr(), annot = True, vmin=-1, vmax=1, center= 0, cmap= 'coolwarm', linewidths=3, linecolor='black')\n"
      ],
      "metadata": {
        "colab": {
          "base_uri": "https://localhost:8080/",
          "height": 783
        },
        "id": "3sJbT4-HDVAL",
        "outputId": "9e697581-2f48-4d8d-f8d5-3caa403c1b46"
      },
      "execution_count": 243,
      "outputs": [
        {
          "output_type": "execute_result",
          "data": {
            "text/plain": [
              "<matplotlib.axes._subplots.AxesSubplot at 0x7fbb17aac390>"
            ]
          },
          "metadata": {},
          "execution_count": 243
        },
        {
          "output_type": "display_data",
          "data": {
            "image/png": "[encoded data removed]",
            "text/plain": [
              "<Figure size 1080x720 with 2 Axes>"
            ]
          },
          "metadata": {
            "needs_background": "light"
          }
        }
      ]
    }
  ]
}